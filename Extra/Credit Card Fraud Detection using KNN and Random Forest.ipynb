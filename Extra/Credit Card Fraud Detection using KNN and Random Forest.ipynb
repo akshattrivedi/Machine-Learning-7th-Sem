{
 "cells": [
  {
   "cell_type": "code",
   "execution_count": 133,
   "metadata": {},
   "outputs": [],
   "source": [
    "import numpy as np\n",
    "import pandas as pd \n",
    "import seaborn as sns\n",
    "import matplotlib.pyplot as plt "
   ]
  },
  {
   "cell_type": "code",
   "execution_count": 134,
   "metadata": {},
   "outputs": [
    {
     "name": "stdout",
     "output_type": "stream",
     "text": [
      "(30000, 25)\n"
     ]
    }
   ],
   "source": [
    "df = pd.read_csv(\"UCI_Credit_Card.csv\")\n",
    "print(df.shape)"
   ]
  },
  {
   "cell_type": "code",
   "execution_count": 135,
   "metadata": {},
   "outputs": [
    {
     "name": "stdout",
     "output_type": "stream",
     "text": [
      "[ 1.000e+00  2.000e+04  2.000e+00  2.000e+00  1.000e+00  2.400e+01\n",
      "  2.000e+00  2.000e+00 -1.000e+00 -1.000e+00 -2.000e+00 -2.000e+00\n",
      "  3.913e+03  3.102e+03  6.890e+02  0.000e+00  0.000e+00  0.000e+00\n",
      "  0.000e+00  6.890e+02  0.000e+00  0.000e+00  0.000e+00  0.000e+00\n",
      "  1.000e+00]\n",
      "   ID  LIMIT_BAL  SEX  EDUCATION  MARRIAGE  AGE  PAY_0  PAY_2  PAY_3  PAY_4  \\\n",
      "0   1    20000.0    2          2         1   24      2      2     -1     -1   \n",
      "1   2   120000.0    2          2         2   26     -1      2      0      0   \n",
      "2   3    90000.0    2          2         2   34      0      0      0      0   \n",
      "3   4    50000.0    2          2         1   37      0      0      0      0   \n",
      "4   5    50000.0    1          2         1   57     -1      0     -1      0   \n",
      "\n",
      "     ...     BILL_AMT3  BILL_AMT4  BILL_AMT5  BILL_AMT6  PAY_AMT1  PAY_AMT2  \\\n",
      "0    ...         689.0        0.0        0.0        0.0       0.0     689.0   \n",
      "1    ...        2682.0     3272.0     3455.0     3261.0       0.0    1000.0   \n",
      "2    ...       13559.0    14331.0    14948.0    15549.0    1518.0    1500.0   \n",
      "3    ...       49291.0    28314.0    28959.0    29547.0    2000.0    2019.0   \n",
      "4    ...       35835.0    20940.0    19146.0    19131.0    2000.0   36681.0   \n",
      "\n",
      "   PAY_AMT3  PAY_AMT4  PAY_AMT5  PAY_AMT6  \n",
      "0       0.0       0.0       0.0       0.0  \n",
      "1    1000.0    1000.0       0.0    2000.0  \n",
      "2    1000.0    1000.0    1000.0    5000.0  \n",
      "3    1200.0    1100.0    1069.0    1000.0  \n",
      "4   10000.0    9000.0     689.0     679.0  \n",
      "\n",
      "[5 rows x 24 columns]\n"
     ]
    }
   ],
   "source": [
    "print(df.values[0])\n",
    "print(df.iloc[:,:-1].head())"
   ]
  },
  {
   "cell_type": "code",
   "execution_count": 154,
   "metadata": {},
   "outputs": [
    {
     "name": "stdout",
     "output_type": "stream",
     "text": [
      "<class 'numpy.ndarray'>\n",
      "[[2.8466e+04 2.4000e+05 2.0000e+00 ... 0.0000e+00 0.0000e+00 0.0000e+00]\n",
      " [2.7623e+04 5.0000e+04 2.0000e+00 ... 9.8100e+03 6.6000e+02 2.9800e+03]\n",
      " [2.8377e+04 5.0000e+04 2.0000e+00 ... 2.0040e+03 3.5000e+03 0.0000e+00]\n",
      " ...\n",
      " [8.6100e+02 5.0000e+04 1.0000e+00 ... 0.0000e+00 0.0000e+00 0.0000e+00]\n",
      " [1.5796e+04 7.0000e+04 2.0000e+00 ... 1.2000e+03 0.0000e+00 1.2000e+03]\n",
      " [2.3655e+04 1.6000e+05 2.0000e+00 ... 1.6500e+03 1.4200e+04 1.5000e+03]]\n"
     ]
    }
   ],
   "source": [
    "from sklearn.model_selection import train_test_split \n",
    "\n",
    "#values converts all the attribute of same dtype with mixed dtypes like int64,float64,str\\object,etc -> object(all)\n",
    "x = df.iloc[:,:-1].values\n",
    "y = df.iloc[:,-1].values\n",
    "\n",
    "x_train,x_test,y_train,y_test = train_test_split(x,y,random_state=42,test_size=0.3)\n",
    "\n",
    "print(type(x_train))\n",
    "print(x_train)"
   ]
  },
  {
   "cell_type": "code",
   "execution_count": 163,
   "metadata": {},
   "outputs": [
    {
     "name": "stdout",
     "output_type": "stream",
     "text": [
      "81.56666666666666 %\n"
     ]
    }
   ],
   "source": [
    "# RANDOM FOREST CLASSIFICATION\n",
    "#For Large Dataset or Missing Values Dataset Random Forest shows better ACCURACY \n",
    "from sklearn.ensemble import RandomForestClassifier\n",
    "\n",
    "modelRF = RandomForestClassifier(n_estimators=100)\n",
    "modelRF.fit(x_train,y_train)\n",
    "predictedRF = modelRF.predict(x_test)\n",
    "actualRF = y_test\n",
    "print(modelRF.score(x_test,y_test)*100,\"%\")"
   ]
  },
  {
   "cell_type": "code",
   "execution_count": 164,
   "metadata": {},
   "outputs": [
    {
     "name": "stdout",
     "output_type": "stream",
     "text": [
      "78.04444444444445 %\n"
     ]
    }
   ],
   "source": [
    "# K-NEAREST NEGIHBORS\n",
    "from sklearn.neighbors import KNeighborsClassifier\n",
    "\n",
    "modelKNN = KNeighborsClassifier(n_neighbors=30)\n",
    "modelKNN.fit(x_train,y_train)\n",
    "predictedKNN = modelKNN.predict(x_test)\n",
    "actualKNN = y_test\n",
    "print(modelKNN.score(x_test,y_test)*100,\"%\")"
   ]
  },
  {
   "cell_type": "code",
   "execution_count": 187,
   "metadata": {},
   "outputs": [
    {
     "name": "stdout",
     "output_type": "stream",
     "text": [
      "Random Forest:\n",
      "[[6626  414]\n",
      " [1245  715]]\n",
      "\n",
      "K-Nearest Neighbors:\n",
      "[[6910  130]\n",
      " [1846  114]]\n"
     ]
    },
    {
     "data": {
      "image/png": "[encoded data removed]",
      "text/plain": [
       "<Figure size 1440x576 with 4 Axes>"
      ]
     },
     "metadata": {
      "needs_background": "light"
     },
     "output_type": "display_data"
    }
   ],
   "source": [
    "from sklearn.metrics import confusion_matrix\n",
    "\n",
    "plt.figure(figsize=(20,8))\n",
    "\n",
    "plt.subplot(1,2,1)\n",
    "cmRF = confusion_matrix(actualRF,predictedRF)\n",
    "sns.heatmap(cmRF,annot=True)\n",
    "plt.xlabel(\"Predicted\")\n",
    "plt.ylabel(\"Actual\")\n",
    "plt.title(\"RandomForestClassifier\")\n",
    "print(\"Random Forest:\")\n",
    "print(cmRF)\n",
    "print()\n",
    "\n",
    "plt.subplot(1,2,2)\n",
    "cmKNN = confusion_matrix(actualKNN,predictedKNN)\n",
    "sns.heatmap(cmKNN,annot=True)\n",
    "plt.xlabel(\"Predicted\")\n",
    "plt.ylabel(\"Actual\")\n",
    "plt.title(\"KNeighborsClassifier\")\n",
    "print(\"K-Nearest Neighbors:\")\n",
    "print(cmKNN)\n",
    "\n",
    "plt.show()"
   ]
  }
 ],
 "metadata": {
  "kernelspec": {
   "display_name": "Python 3",
   "language": "python",
   "name": "python3"
  },
  "language_info": {
   "codemirror_mode": {
    "name": "ipython",
    "version": 3
   },
   "file_extension": ".py",
   "mimetype": "text/x-python",
   "name": "python",
   "nbconvert_exporter": "python",
   "pygments_lexer": "ipython3",
   "version": "3.6.7"
  }
 },
 "nbformat": 4,
 "nbformat_minor": 2
}
